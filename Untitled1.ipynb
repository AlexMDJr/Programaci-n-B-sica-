{
  "nbformat": 4,
  "nbformat_minor": 0,
  "metadata": {
    "colab": {
      "provenance": [],
      "authorship_tag": "ABX9TyOdZNATtX1CKLyUuBci2zrn",
      "include_colab_link": true
    },
    "kernelspec": {
      "name": "python3",
      "display_name": "Python 3"
    },
    "language_info": {
      "name": "python"
    }
  },
  "cells": [
    {
      "cell_type": "markdown",
      "metadata": {
        "id": "view-in-github",
        "colab_type": "text"
      },
      "source": [
        "<a href=\"https://colab.research.google.com/github/AlexMDJr/Programaci-n-B-sica-/blob/main/Untitled1.ipynb\" target=\"_parent\"><img src=\"https://colab.research.google.com/assets/colab-badge.svg\" alt=\"Open In Colab\"/></a>"
      ]
    },
    {
      "cell_type": "code",
      "execution_count": 1,
      "metadata": {
        "colab": {
          "base_uri": "https://localhost:8080/"
        },
        "id": "cLW18h2Wj22f",
        "outputId": "0a8a44f3-a8a9-4e9f-a748-9065afcedbc1"
      },
      "outputs": [
        {
          "output_type": "stream",
          "name": "stdout",
          "text": [
            "¿Cuál es la función de la memoria secundaria en una computadora?\n"
          ]
        }
      ],
      "source": [
        "print (\"¿Cuál es la función de la memoria secundaria en una computadora?\")"
      ]
    },
    {
      "cell_type": "code",
      "source": [
        "print (\"Almacenar informaciónn durante mucho tiempo, incluso después de ciclos de apagado y encendido\")"
      ],
      "metadata": {
        "colab": {
          "base_uri": "https://localhost:8080/"
        },
        "id": "bdYRlOexLgnY",
        "outputId": "d57575dc-57d0-4c84-b5f7-f1e2f0b593ca"
      },
      "execution_count": 2,
      "outputs": [
        {
          "output_type": "stream",
          "name": "stdout",
          "text": [
            "Almacenar informaciónn durante mucho tiempo, incluso después de ciclos de apagado y encendido\n"
          ]
        }
      ]
    }
  ]
}